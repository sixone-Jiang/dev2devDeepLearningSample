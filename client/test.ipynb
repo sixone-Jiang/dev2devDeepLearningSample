{
 "cells": [
  {
   "cell_type": "code",
   "execution_count": 1,
   "metadata": {},
   "outputs": [],
   "source": [
    "import requests"
   ]
  },
  {
   "cell_type": "code",
   "execution_count": null,
   "metadata": {},
   "outputs": [],
   "source": [
    "imgPath = r'horse.png' # 要提交的图片路径\n",
    "url = r'http://0.0.0.0:13406/uploader' # 提供服务的http地址\n",
    "files = { \n",
    "    'file':(imgPath, open(imgPath, 'rb'), 'image/jpeg')\n",
    "    } # 按照此规则构造fileDict提交表单, 图片格式为二进制， 解析格式为image-jpeg\n",
    "    # 参数分别为 key-name, filedata, content-type "
   ]
  },
  {
   "cell_type": "code",
   "execution_count": null,
   "metadata": {},
   "outputs": [],
   "source": [
    "response = requests.post(url, files=files) # 发起请求"
   ]
  },
  {
   "cell_type": "code",
   "execution_count": null,
   "metadata": {},
   "outputs": [],
   "source": [
    "# 获取结果\n",
    "response.text"
   ]
  }
 ],
 "metadata": {
  "interpreter": {
   "hash": "8ee114f1dc168b6a4275f9e3926bdde14af7691652456d59d0632ba245d02a93"
  },
  "kernelspec": {
   "display_name": "Python 3.7.12 64-bit ('tf21': conda)",
   "language": "python",
   "name": "python3"
  },
  "language_info": {
   "codemirror_mode": {
    "name": "ipython",
    "version": 3
   },
   "file_extension": ".py",
   "mimetype": "text/x-python",
   "name": "python",
   "nbconvert_exporter": "python",
   "pygments_lexer": "ipython3",
   "version": "3.7.12"
  },
  "orig_nbformat": 4
 },
 "nbformat": 4,
 "nbformat_minor": 2
}
